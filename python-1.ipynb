{
 "cells": [
  {
   "cell_type": "code",
   "execution_count": 5,
   "id": "2ce3fcba",
   "metadata": {},
   "outputs": [
    {
     "name": "stdout",
     "output_type": "stream",
     "text": [
      "['abx', 90, 78, 56, 34]\n"
     ]
    }
   ],
   "source": [
    "# ///list can store multiple type of data values at same time \n",
    "def reverse_l(li):\n",
    "    length = len(li)\n",
    "    for i in range(length//2):\n",
    "        li[i], li[length-i-1] = li[length-i-1],li[i]\n",
    "        \n",
    "        \n",
    "\n",
    "li = [34,56,78,90,'abx']\n",
    "reverse_l(li)\n",
    "print(li)"
   ]
  },
  {
   "cell_type": "code",
   "execution_count": 9,
   "id": "d5e356d6",
   "metadata": {},
   "outputs": [],
   "source": [
    "li = [1,2,3,4,5,6]\n",
    "reverse_l(li)\n",
    "\n",
    "# this -1 represent decrement the step"
   ]
  },
  {
   "cell_type": "code",
   "execution_count": 10,
   "id": "2a900221",
   "metadata": {},
   "outputs": [
    {
     "name": "stdout",
     "output_type": "stream",
     "text": [
      "[6, 5, 4, 3, 2, 1]\n"
     ]
    }
   ],
   "source": [
    "print(li)"
   ]
  },
  {
   "cell_type": "code",
   "execution_count": 11,
   "id": "3eed27b6",
   "metadata": {},
   "outputs": [
    {
     "data": {
      "text/plain": [
       "[3, 4]"
      ]
     },
     "execution_count": 11,
     "metadata": {},
     "output_type": "execute_result"
    }
   ],
   "source": [
    "li[3:1:-1]"
   ]
  },
  {
   "cell_type": "code",
   "execution_count": 12,
   "id": "cf733492",
   "metadata": {},
   "outputs": [
    {
     "data": {
      "text/plain": [
       "[3, 4, 5, 6]"
      ]
     },
     "execution_count": 12,
     "metadata": {},
     "output_type": "execute_result"
    }
   ],
   "source": [
    "li[3::-1]"
   ]
  },
  {
   "cell_type": "code",
   "execution_count": 13,
   "id": "987c6df7",
   "metadata": {},
   "outputs": [
    {
     "data": {
      "text/plain": [
       "[1, 2, 3, 4]"
      ]
     },
     "execution_count": 13,
     "metadata": {},
     "output_type": "execute_result"
    }
   ],
   "source": [
    "li[:1:-1]\n",
    "# int second column we write ending in reverse order"
   ]
  },
  {
   "cell_type": "code",
   "execution_count": 14,
   "id": "54cd1af5",
   "metadata": {},
   "outputs": [
    {
     "data": {
      "text/plain": [
       "[1, 2, 3, 4, 5, 6]"
      ]
     },
     "execution_count": 14,
     "metadata": {},
     "output_type": "execute_result"
    }
   ],
   "source": [
    "li[::-1]"
   ]
  },
  {
   "cell_type": "code",
   "execution_count": 15,
   "id": "d46749f6",
   "metadata": {},
   "outputs": [
    {
     "ename": "NameError",
     "evalue": "name 'increment' is not defined",
     "output_type": "error",
     "traceback": [
      "\u001b[1;31m---------------------------------------------------------------------------\u001b[0m",
      "\u001b[1;31mNameError\u001b[0m                                 Traceback (most recent call last)",
      "Cell \u001b[1;32mIn[15], line 1\u001b[0m\n\u001b[1;32m----> 1\u001b[0m \u001b[43mincrement\u001b[49m(li)\n",
      "\u001b[1;31mNameError\u001b[0m: name 'increment' is not defined"
     ]
    }
   ],
   "source": [
    "# list are immutable"
   ]
  },
  {
   "cell_type": "code",
   "execution_count": 17,
   "id": "2ff647b1",
   "metadata": {},
   "outputs": [
    {
     "name": "stdout",
     "output_type": "stream",
     "text": [
      "4\n"
     ]
    }
   ],
   "source": [
    "def increment(a):\n",
    "    a = a + 2\n",
    "    return a\n",
    "\n",
    "a = 2\n",
    "a = increment(a)\n",
    "print(a)\n",
    "\n",
    "# reight now let a_main contain reference to the variable a=2, and when we\n",
    "# call increment funx, let l__main contain the refrence of that variable a \n",
    "# which is contained by the funx, now variables are i mutalble so both these varible \n",
    "# now represent the same variable a =4, but we are not storing that anywhere\n",
    "# to staore use a = increnent(a)"
   ]
  },
  {
   "cell_type": "code",
   "execution_count": 18,
   "id": "4fe7c377",
   "metadata": {},
   "outputs": [],
   "source": [
    "# if two list ponting the same reference, what ever u changed \n",
    "# in list 1, it automatically displayed in the 2md list\n",
    "# id(a)\n",
    "# id is uded to find out the address"
   ]
  },
  {
   "cell_type": "code",
   "execution_count": 29,
   "id": "1cdca2c4",
   "metadata": {},
   "outputs": [
    {
     "name": "stdout",
     "output_type": "stream",
     "text": [
      "3\n"
     ]
    }
   ],
   "source": [
    "def linear_search(li, ele):\n",
    "#     passing the argument\n",
    "    for i in range(len(li)):\n",
    "        if li[i] == ele:\n",
    "            return i\n",
    "    return -1\n",
    "\n",
    "li = [2,3,4,5]\n",
    "t = linear_search(li, 5)\n",
    "print(t)"
   ]
  },
  {
   "cell_type": "code",
   "execution_count": 30,
   "id": "a40619a4",
   "metadata": {},
   "outputs": [
    {
     "name": "stdout",
     "output_type": "stream",
     "text": [
      "123456\n",
      "11 34 56 78 90\n",
      "[11, 34, 56, 78, 90]\n"
     ]
    }
   ],
   "source": [
    "n= int(input())\n",
    "li = [int(x) for x in input().split()]\n",
    "print(li)\n",
    "\n",
    "# split func split the list into string"
   ]
  },
  {
   "cell_type": "code",
   "execution_count": 36,
   "id": "690874d1",
   "metadata": {},
   "outputs": [
    {
     "name": "stdout",
     "output_type": "stream",
     "text": [
      "78\n"
     ]
    }
   ],
   "source": [
    "ele = int(input())\n"
   ]
  },
  {
   "cell_type": "code",
   "execution_count": 39,
   "id": "83e03a3a",
   "metadata": {},
   "outputs": [],
   "source": [
    "isFound = False\n",
    "for i in range(len(li)):\n",
    "    if li[i]==ele:\n",
    "        isFound = True\n",
    "        break\n",
    "if isFound is False:\n",
    "  print(-1)"
   ]
  },
  {
   "cell_type": "code",
   "execution_count": 40,
   "id": "d123b5ea",
   "metadata": {},
   "outputs": [
    {
     "name": "stdout",
     "output_type": "stream",
     "text": [
      "1,2,3,45,6\n"
     ]
    }
   ],
   "source": [
    "str = input()"
   ]
  },
  {
   "cell_type": "code",
   "execution_count": 41,
   "id": "0fb4f888",
   "metadata": {},
   "outputs": [
    {
     "name": "stdout",
     "output_type": "stream",
     "text": [
      "1 2 3 4 5\n"
     ]
    }
   ],
   "source": [
    "str = input()"
   ]
  },
  {
   "cell_type": "code",
   "execution_count": 42,
   "id": "fa8808b0",
   "metadata": {},
   "outputs": [
    {
     "data": {
      "text/plain": [
       "'1 2 3 4 5'"
      ]
     },
     "execution_count": 42,
     "metadata": {},
     "output_type": "execute_result"
    }
   ],
   "source": [
    "str"
   ]
  },
  {
   "cell_type": "code",
   "execution_count": 43,
   "id": "3d65b579",
   "metadata": {},
   "outputs": [],
   "source": [
    "li = []"
   ]
  },
  {
   "cell_type": "code",
   "execution_count": 44,
   "id": "cd02fd51",
   "metadata": {},
   "outputs": [],
   "source": [
    "str_split = str.split(' ')"
   ]
  },
  {
   "cell_type": "code",
   "execution_count": 46,
   "id": "ca348e7e",
   "metadata": {},
   "outputs": [
    {
     "data": {
      "text/plain": [
       "['1', '2', '3', '4', '5']"
      ]
     },
     "execution_count": 46,
     "metadata": {},
     "output_type": "execute_result"
    }
   ],
   "source": [
    "str_split"
   ]
  },
  {
   "cell_type": "code",
   "execution_count": 49,
   "id": "40e791fe",
   "metadata": {},
   "outputs": [],
   "source": [
    "for ele in str_split:\n",
    "    li.append(int(ele))"
   ]
  },
  {
   "cell_type": "code",
   "execution_count": 50,
   "id": "7fdf5a4d",
   "metadata": {},
   "outputs": [
    {
     "data": {
      "text/plain": [
       "[1, 2, 3, 4, 5]"
      ]
     },
     "execution_count": 50,
     "metadata": {},
     "output_type": "execute_result"
    }
   ],
   "source": [
    "li"
   ]
  },
  {
   "cell_type": "code",
   "execution_count": null,
   "id": "93ce6918",
   "metadata": {},
   "outputs": [],
   "source": []
  }
 ],
 "metadata": {
  "kernelspec": {
   "display_name": "Python 3 (ipykernel)",
   "language": "python",
   "name": "python3"
  },
  "language_info": {
   "codemirror_mode": {
    "name": "ipython",
    "version": 3
   },
   "file_extension": ".py",
   "mimetype": "text/x-python",
   "name": "python",
   "nbconvert_exporter": "python",
   "pygments_lexer": "ipython3",
   "version": "3.10.9"
  }
 },
 "nbformat": 4,
 "nbformat_minor": 5
}
